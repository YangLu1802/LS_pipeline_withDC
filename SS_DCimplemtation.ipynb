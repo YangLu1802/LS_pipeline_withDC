{
 "cells": [
  {
   "cell_type": "markdown",
   "metadata": {},
   "source": [
    "This is the first notebook to to start fresh for testing the implementation of DC.  \n",
    "This still assume inverse registration;\n",
    "checklist for progress, minimal change to run through:  \n",
    "> (y for done; pr for pending run; x for not implemented yet)\n",
    "- (y) preview n_raw_image_tiles & tile configuration (n by m)\n",
    "- (pr) stitching\n",
    "- (x) destriping\n",
    "- (pr) downsizing\n",
    "- (pr) registration\n",
    "- (pr) upsize atlas\n",
    "- () make corrected layers\n",
    "- () make atlas layer\n",
    "- () add annotations\n",
    "- () make ng links\n",
    "\n",
    "The notebook itself should run in any python env that has necessary packages installed. The specific actual commands depends on the conda env `lightsheet` in `pnilsadmin` account, which is an environment that has some changes comparing to the `lightsheet` requirement specified in BrainPipe (both braincogs and PU version). Should be ware of this in case run in other account."
   ]
  },
  {
   "cell_type": "code",
   "execution_count": null,
   "metadata": {},
   "outputs": [],
   "source": []
  },
  {
   "cell_type": "code",
   "execution_count": null,
   "metadata": {},
   "outputs": [],
   "source": [
    "# import necessary modules\n",
    "import importlib\n"
   ]
  },
  {
   "cell_type": "markdown",
   "metadata": {},
   "source": [
    "### Test DC implementation with one sample;"
   ]
  },
  {
   "cell_type": "markdown",
   "metadata": {},
   "source": [
    "#### import and intialize the DC"
   ]
  },
  {
   "cell_type": "code",
   "execution_count": 58,
   "metadata": {},
   "outputs": [
    {
     "name": "stdout",
     "output_type": "stream",
     "text": [
      "===data for user sbolkan, beginning ===/\n",
      "20241004_12_05_24_sbolkan_a2a_245\n",
      "20241004_16_47_31_sbolkan_d1_211\n",
      "20241104_09_40_19_sbolkan_a2a_250\n",
      "20241104_13_26_03_sbolkan_a2a_492\n",
      "20241115_12_30_54_sbolkan_a2a_241\n",
      "20241205_13_29_31_sbolkan-a2a_230-vd-1\n",
      "===data for user sbolkan, ending ======/\n",
      "raw channels found: \n",
      "Ex_488_Em_525\n",
      "Ex_561_Em_000\n",
      "Ex_639_Em_690\n",
      "/jukebox/LightSheetData/_rawData/SmartSPIM/sbolkan/20241205_13_29_31_sbolkan-a2a_230-vd-1\n",
      "========= start of summary of class, v0 ============\n",
      "{\n",
      "    \"version\": \"v0\",\n",
      "    \"scope\": \"SS\",\n",
      "    \"scope_name\": \"SmartSPIM\",\n",
      "    \"user\": \"sbolkan\",\n",
      "    \"sample\": \"a2a_230\",\n",
      "    \"imaging_direction\": \"vd\",\n",
      "    \"imaging_request\": \"1\",\n",
      "    \"raw_dir_root\": \"/jukebox/LightSheetData/_rawData\",\n",
      "    \"process_dir_root\": \"/jukebox/LightSheetData/_procData\",\n",
      "    \"viz_dir_root\": \"/jukebox/LightSheetData/neuroglancer/public/_ngviz\",\n",
      "    \"raw_dir\": \"/jukebox/LightSheetData/_rawData/SmartSPIM/sbolkan/20241205_13_29_31_sbolkan-a2a_230-vd-1\",\n",
      "    \"process_dir\": \"/jukebox/LightSheetData/_procData/sbolkan/20241205_13_29_31_sbolkan-a2a_230-vd-1-SS\",\n",
      "    \"viz_dir\": \"/jukebox/LightSheetData/neuroglancer/public/_ngviz/sbolkan/20241205_13_29_31_sbolkan-a2a_230-vd-1-SS\",\n",
      "    \"lasers\": [\n",
      "        488,\n",
      "        561,\n",
      "        639\n",
      "    ],\n",
      "    \"raw_channels\": {\n",
      "        \"488\": \"/jukebox/LightSheetData/_rawData/SmartSPIM/sbolkan/20241205_13_29_31_sbolkan-a2a_230-vd-1/Ex_488_Em_525\",\n",
      "        \"561\": \"/jukebox/LightSheetData/_rawData/SmartSPIM/sbolkan/20241205_13_29_31_sbolkan-a2a_230-vd-1/Ex_561_Em_000\",\n",
      "        \"639\": \"/jukebox/LightSheetData/_rawData/SmartSPIM/sbolkan/20241205_13_29_31_sbolkan-a2a_230-vd-1/Ex_639_Em_690\"\n",
      "    },\n",
      "    \"auto_laser\": 488,\n",
      "    \"signal_lasers\": [\n",
      "        561,\n",
      "        639\n",
      "    ],\n",
      "    \"stitched_dir\": {\n",
      "        \"488\": \"/jukebox/LightSheetData/_procData/sbolkan/20241205_13_29_31_sbolkan-a2a_230-vd-1-SS/488_stitched\",\n",
      "        \"561\": \"/jukebox/LightSheetData/_procData/sbolkan/20241205_13_29_31_sbolkan-a2a_230-vd-1-SS/561_stitched\",\n",
      "        \"639\": \"/jukebox/LightSheetData/_procData/sbolkan/20241205_13_29_31_sbolkan-a2a_230-vd-1-SS/639_stitched\"\n",
      "    },\n",
      "    \"atlas_name\": \"allen\",\n",
      "    \"label\": \"20241205_13_29_31_sbolkan-a2a_230-vd-1\"\n",
      "}\n",
      "========= end of summary of class, v0 ==============\n"
     ]
    }
   ],
   "source": [
    "import sys\n",
    "sys.path.append('/jukebox/wang/yang/_yang_dev/data_organize') # where the code is\n",
    "#### # additional func to force update in the module without restart the whole kernel\n",
    "import DataContainer\n",
    "importlib.reload(DataContainer) \n",
    "####\n",
    "from DataContainer import Datacontainer\n",
    "\n",
    "\n",
    "sample = '?'\n",
    "\n",
    "dc = Datacontainer(scope='SS',\n",
    "               user='sbolkan',\n",
    "               sample='a2a_230',\n",
    "               imaging_direction='vd',\n",
    "               imaging_request=1,\n",
    "               auto_laser=488,\n",
    "               atlas_name='allen')\n",
    "dc.summary()\n",
    "\n",
    "# primitive form of batching\n",
    "dc_list = [dc]"
   ]
  },
  {
   "cell_type": "markdown",
   "metadata": {},
   "source": [
    "#### (additional params setting? skip for now)\n",
    "> ONE MAY CONSIDER WHICH SHOULD BE SET, WHICH GOES TO HARDCODED"
   ]
  },
  {
   "cell_type": "markdown",
   "metadata": {},
   "source": [
    "#### preview LS tiles & total files "
   ]
  },
  {
   "cell_type": "code",
   "execution_count": 23,
   "metadata": {},
   "outputs": [
    {
     "name": "stdout",
     "output_type": "stream",
     "text": [
      "20241205_13_29_31_sbolkan-a2a_230-vd-1\n",
      "4 x 5\n",
      "3283\n",
      "\n"
     ]
    }
   ],
   "source": [
    "import os\n",
    "from pathlib import Path\n",
    "for dc in dc_list:\n",
    "    print(dc.label)\n",
    "    raw_488_path = dc.raw_channels[488]\n",
    "    htiles = len([x for x in os.listdir(raw_488_path) if Path(os.path.join(raw_488_path, x)).is_dir()])\n",
    "    \n",
    "\n",
    "    raw_488_vtiles_path = [os.path.join(raw_488_path, x) for x in os.listdir(raw_488_path) \n",
    "                            if Path(os.path.join(raw_488_path, x)).is_dir()\n",
    "                            ][0]\n",
    "    \n",
    "    vtiles = len([x for x in os.listdir(raw_488_vtiles_path)])\n",
    "    \n",
    "    print(str(htiles) + \" x \" + str(vtiles))\n",
    "\n",
    "    raw_488_tile_path = [os.path.join(raw_488_vtiles_path, x) for x in os.listdir(raw_488_vtiles_path)][-1]\n",
    "    num_files = len([x for x in os.listdir(raw_488_tile_path)])\n",
    "    print(num_files)\n",
    "    print(\"\")\n"
   ]
  },
  {
   "cell_type": "markdown",
   "metadata": {},
   "source": [
    "#### stitching"
   ]
  },
  {
   "cell_type": "code",
   "execution_count": 24,
   "metadata": {},
   "outputs": [
    {
     "name": "stdout",
     "output_type": "stream",
     "text": [
      "cd /jukebox/wang/sanjeev/github_repos/BrainPipe/smartspim/\n",
      "20241205_13_29_31_sbolkan-a2a_230-vd-1\n",
      "./spim_stitching_pipeline_multichannel.sh /jukebox/LightSheetData/_rawData/SmartSPIM/sbolkan/20241205_13_29_31_sbolkan-a2a_230-vd-1/Ex_488_Em_525 /jukebox/LightSheetData/_procData/sbolkan/20241205_13_29_31_sbolkan-a2a_230-vd-1-SS/488_stitched /jukebox/LightSheetData/_rawData/SmartSPIM/sbolkan/20241205_13_29_31_sbolkan-a2a_230-vd-1/Ex_561_Em_000 /jukebox/LightSheetData/_procData/sbolkan/20241205_13_29_31_sbolkan-a2a_230-vd-1-SS/561_stitched /jukebox/LightSheetData/_rawData/SmartSPIM/sbolkan/20241205_13_29_31_sbolkan-a2a_230-vd-1/Ex_639_Em_690 /jukebox/LightSheetData/_procData/sbolkan/20241205_13_29_31_sbolkan-a2a_230-vd-1-SS/639_stitched\n"
     ]
    }
   ],
   "source": [
    "os.chdir(\"/jukebox/wang/sanjeev/github_repos/BrainPipe/smartspim/\")\n",
    "print('cd /jukebox/wang/sanjeev/github_repos/BrainPipe/smartspim/')\n",
    "for dc in dc_list:\n",
    "    print(dc.label)\n",
    "    dirs = []\n",
    "    raw_channel_dirs = dc.raw_channels\n",
    "    stitched_dirs = dc.get_stitched_dir()\n",
    "\n",
    "    command_str = \"./spim_stitching_pipeline_multichannel.sh\"\n",
    "    for laser in dc.lasers:\n",
    "        command_str = command_str + f\" {raw_channel_dirs[laser]} {stitched_dirs[laser]}\"\n",
    "    \n",
    "    command = command_str.format(*dirs)\n",
    "\n",
    "    print(command)"
   ]
  },
  {
   "cell_type": "markdown",
   "metadata": {},
   "source": [
    "#### destriping"
   ]
  },
  {
   "cell_type": "code",
   "execution_count": null,
   "metadata": {},
   "outputs": [],
   "source": [
    "# destriping code"
   ]
  },
  {
   "cell_type": "markdown",
   "metadata": {},
   "source": [
    "#### downsizing"
   ]
  },
  {
   "cell_type": "code",
   "execution_count": null,
   "metadata": {},
   "outputs": [
    {
     "name": "stdout",
     "output_type": "stream",
     "text": [
      "cd /jukebox/wang/sanjeev/lightsheet_helper_scripts/smartspim_pipeline_AH/downsizing/\n",
      "20241205_13_29_31_sbolkan-a2a_230-vd-1\n",
      "sbatch spim_downsize.sh '/jukebox/LightSheetData/_procData/sbolkan/20241205_13_29_31_sbolkan-a2a_230-vd-1-SS/488_destriped' /jukebox/LightSheetData/_procData/sbolkan/20241205_13_29_31_sbolkan-a2a_230-vd-1-SS/488_downsized v allen\n",
      "\n",
      "sbatch spim_downsize.sh '/jukebox/LightSheetData/_procData/sbolkan/20241205_13_29_31_sbolkan-a2a_230-vd-1-SS/561_destriped' /jukebox/LightSheetData/_procData/sbolkan/20241205_13_29_31_sbolkan-a2a_230-vd-1-SS/561_downsized v allen\n",
      "\n",
      "sbatch spim_downsize.sh '/jukebox/LightSheetData/_procData/sbolkan/20241205_13_29_31_sbolkan-a2a_230-vd-1-SS/639_destriped' /jukebox/LightSheetData/_procData/sbolkan/20241205_13_29_31_sbolkan-a2a_230-vd-1-SS/639_downsized v allen\n",
      "\n"
     ]
    }
   ],
   "source": [
    "os.chdir(\"/jukebox/wang/sanjeev/lightsheet_helper_scripts/smartspim_pipeline_AH/downsizing/\")\n",
    "print('cd /jukebox/wang/sanjeev/lightsheet_helper_scripts/smartspim_pipeline_AH/downsizing/')\n",
    "for dc in dc_list:\n",
    "    print(dc.label)\n",
    "    for laser in dc.lasers:\n",
    "        try:\n",
    "            downsize_from_dir = dc.get_destriped_dir() # use destriped first (assumption: destripe after stitch; change if order flip)\n",
    "        except:\n",
    "            downsize_from_dir = dc.get_stitched_dir()\n",
    "        downsized_dir =  dc.get_downsized_dir()\n",
    "        \n",
    "        command = \"sbatch spim_downsize.sh '{}' {} {} {}\".format(downsize_from_dir[laser], downsized_dir[laser], dc.imaging_direction[0], dc.atlas_name) # imaging direction compatibility therefore takes the first char.\n",
    "        #job_output = subprocess.check_output(command, shell=True)\n",
    "        #job_id = str(job_output)[22:30]\n",
    "        #print(\"Running: \" + str(sample) + \", channel: \" + str(laser))\n",
    "        #print(job_output)\n",
    "        print(command)\n",
    "        print(\"\")"
   ]
  },
  {
   "cell_type": "markdown",
   "metadata": {},
   "source": [
    "#### Registration (3-chan compatible)"
   ]
  },
  {
   "cell_type": "code",
   "execution_count": 54,
   "metadata": {},
   "outputs": [
    {
     "name": "stdout",
     "output_type": "stream",
     "text": [
      "cd /jukebox/wang/sanjeev/lightsheet_helper_scripts/smartspim_pipeline_AH/registration/\n",
      "20241205_13_29_31_sbolkan-a2a_230-vd-1\n",
      "[488, 561, 639]\n",
      "register 561 to autofluorescence at 488\n",
      "./spim_registration_pipeline_semicustom_YL.sh /jukebox/LightSheetData/_rawData/SmartSPIM/sbolkan/20241205_13_29_31_sbolkan-a2a_230-vd-1 /jukebox/LightSheetData/_procData/sbolkan/20241205_13_29_31_sbolkan-a2a_230-vd-1-SS/488_downsized downsized_for_atlas.tif /jukebox/LightSheetData/_procData/sbolkan/20241205_13_29_31_sbolkan-a2a_230-vd-1-SS/561_downsized downsized_for_atlas.tif allen inverse\n",
      "register 639 to autofluorescence at 488\n",
      "./spim_registration_pipeline_semicustom_YL.sh /jukebox/LightSheetData/_rawData/SmartSPIM/sbolkan/20241205_13_29_31_sbolkan-a2a_230-vd-1 /jukebox/LightSheetData/_procData/sbolkan/20241205_13_29_31_sbolkan-a2a_230-vd-1-SS/488_downsized downsized_for_atlas.tif /jukebox/LightSheetData/_procData/sbolkan/20241205_13_29_31_sbolkan-a2a_230-vd-1-SS/639_downsized downsized_for_atlas.tif allen inverse\n",
      "\n"
     ]
    }
   ],
   "source": [
    "os.chdir(\"/jukebox/wang/sanjeev/lightsheet_helper_scripts/smartspim_pipeline_AH/registration/\")\n",
    "print('cd /jukebox/wang/sanjeev/lightsheet_helper_scripts/smartspim_pipeline_AH/registration/')\n",
    "\n",
    "only_auto_to_atlas = False # temp solution; pending to fix next update\n",
    "for dc in dc_list:\n",
    "    print(dc.label)\n",
    "    # src = LS_dirs.get_rawdata_path(sample)\n",
    "    src = dc.raw_dir\n",
    "\n",
    "    print(dc.lasers)\n",
    "    if only_auto_to_atlas:\n",
    "        # This skip the pipeline which determine whether it is forward or inverse registration; beware when reuse\n",
    "        # reg = LS_dirs.get_channel_path(sample, \"downsized\", lasers[0]) # lasers[0] should be 488\n",
    "        reg = dc.get_downsized_dir()[dc.auto_laser]\n",
    "        reg_vol = \"downsized_for_atlas.tif\"\n",
    "        cell = \"NA\" # so that only do registration on that;\n",
    "        cell_vol = \"NA\" # placeholder\n",
    "        command = \"./spim_registration_pipeline_semicustom_YL.sh {} {} {} {} {} {} {}\".format(src, reg, reg_vol, \n",
    "                                                                                            cell, cell_vol, dc.atlas_name, \"inverse\")\n",
    "        print(command)\n",
    "    else: # do registration together with signal channels\n",
    "        for i in dc.signal_lasers:\n",
    "            print(f\"register {i} to autofluorescence at {dc.auto_laser}\")\n",
    "            # reg = LS_dirs.get_channel_path(sample, \"downsized\", lasers[0])\n",
    "            reg = dc.get_downsized_dir()[dc.auto_laser]\n",
    "            reg_vol = \"downsized_for_atlas.tif\"\n",
    "            \n",
    "            # cell = LS_dirs.get_channel_path(sample, \"downsized\", lasers[i])\n",
    "            cell = dc.get_downsized_dir()[i]\n",
    "            cell_vol = \"downsized_for_atlas.tif\"\n",
    "            \n",
    "            # command = \"./spim_registration_pipeline_semicustom.sh {} {} {} {} {} {} {}\".format(src, reg, reg_vol, \n",
    "            #                                                                                 cell, cell_vol, atl, \"inverse\")\n",
    "            ### customized for 3+ channel, forward; one time run for all channel; no repeat run for registration\n",
    "            command = \"./spim_registration_pipeline_semicustom_YL.sh {} {} {} {} {} {} {}\".format(src, reg, reg_vol, \n",
    "                                                                                            cell, cell_vol, dc.atlas_name, \"inverse\")\n",
    "            print(command)\n",
    "    print(\"\")"
   ]
  },
  {
   "cell_type": "markdown",
   "metadata": {},
   "source": [
    "#### (specific in inverse registration) upsize atlas\n",
    "> Upsize the atlas (that has been mapped to downsized sample space) to raw data resolution"
   ]
  },
  {
   "cell_type": "code",
   "execution_count": null,
   "metadata": {},
   "outputs": [
    {
     "name": "stdout",
     "output_type": "stream",
     "text": [
      "cd /jukebox/wang/sanjeev/lightsheet_helper_scripts/smartspim_pipeline_AH/raw_space_atlas_parallel/\n",
      "./run_transform_pipeline_sanjeev.sh '/jukebox/LightSheetData/_procData/sbolkan/20241205_13_29_31_sbolkan-a2a_230-vd-1-SS/488_stitched' /jukebox/LightSheetData/_procData/sbolkan/20241205_13_29_31_sbolkan-a2a_230-vd-1-SS/elastix_inverse_transform/atl_to_488 {561: '/jukebox/LightSheetData/_procData/sbolkan/20241205_13_29_31_sbolkan-a2a_230-vd-1-SS/elastix_inverse_transform/488_to_561', 639: '/jukebox/LightSheetData/_procData/sbolkan/20241205_13_29_31_sbolkan-a2a_230-vd-1-SS/elastix_inverse_transform/488_to_639'} /jukebox/LightSheetData/_rawData/SmartSPIM/sbolkan/20241205_13_29_31_sbolkan-a2a_230-vd-1/raw_atlas allen v\n",
      " \n"
     ]
    }
   ],
   "source": [
    "os.chdir(\"/jukebox/wang/sanjeev/lightsheet_helper_scripts/smartspim_pipeline_AH/raw_space_atlas_parallel/\")\n",
    "print('cd /jukebox/wang/sanjeev/lightsheet_helper_scripts/smartspim_pipeline_AH/raw_space_atlas_parallel/')\n",
    "\n",
    "for dc in dc_list:\n",
    "    # raw_atlas_dirs = LS_dirs.get_raw_atlas_pipeline_directories(sample, \"corrected\", lasers[1], \"elastix_inverse_transform\", \n",
    "    #                                                             ra_dirname)\n",
    "    raw_atlas_dirs = dc.get_raw_atlas_dirs()\n",
    "    command = \"./run_transform_pipeline_sanjeev.sh '{}' {} {} {} {} {}\".format(dc.stitched_dir[dc.lasers[0]], raw_atlas_dirs['atlas_to_template'], \n",
    "                                                                             raw_atlas_dirs['template_to_signal'], raw_atlas_dirs['output'],\n",
    "                                                                             dc.atlas_name, dc.imaging_direction[0]) # first arg. only used to check shape of raw images\n",
    "    print(command)\n",
    "    print(\" \")"
   ]
  },
  {
   "cell_type": "markdown",
   "metadata": {},
   "source": [
    "#### make precomputed layers for signal channels"
   ]
  },
  {
   "cell_type": "code",
   "execution_count": null,
   "metadata": {},
   "outputs": [],
   "source": [
    "# need to implement dirs in dc; check the param file for ng pipelines;\n",
    "\n",
    "os.chdir(\"/jukebox/wang/sanjeev/github_repos/precomputed/smartspim/corrected_pipeline/\")\n",
    "print('cd /jukebox/wang/sanjeev/github_repos/precomputed/smartspim/corrected_pipeline/')\n",
    "\n",
    "for sample in samples:\n",
    "    for laser in lasers:\n",
    "        viz_dir = os.path.join(LS_dirs.get_viz_path(sample),\n",
    "                               \"ch\" + str(laser) + \"_corrected\")\n",
    "        res = resolution\n",
    "        command = \"./precomputed_pipeline_corrected.sh \" + viz_dir + \" \" + res + \" \" + str(laser)\n",
    "        # job_output = subprocess.check_output(command, shell=True)\n",
    " #       print(sample + \" \" + str(laser))\n",
    " #       print(job_output)\n",
    "        print(command)\n",
    "        print(\" \")"
   ]
  },
  {
   "cell_type": "markdown",
   "metadata": {},
   "source": [
    "### Test batching code with one sample;\n",
    "> simplest batch would be dc.; \n",
    "> Now, we need to make these blocks into functions (pipeline functions)\n",
    "> => the main should have a function that pass"
   ]
  },
  {
   "cell_type": "code",
   "execution_count": null,
   "metadata": {},
   "outputs": [],
   "source": []
  },
  {
   "cell_type": "markdown",
   "metadata": {},
   "source": [
    "### Test batching code with multiple samples;"
   ]
  },
  {
   "cell_type": "code",
   "execution_count": null,
   "metadata": {},
   "outputs": [],
   "source": []
  }
 ],
 "metadata": {
  "kernelspec": {
   "display_name": "lightsheet",
   "language": "python",
   "name": "lightsheet"
  },
  "language_info": {
   "codemirror_mode": {
    "name": "ipython",
    "version": 3
   },
   "file_extension": ".py",
   "mimetype": "text/x-python",
   "name": "python",
   "nbconvert_exporter": "python",
   "pygments_lexer": "ipython3",
   "version": "3.7.12"
  }
 },
 "nbformat": 4,
 "nbformat_minor": 2
}
